{
 "cells": [
  {
   "cell_type": "code",
   "execution_count": null,
   "id": "730cfac4",
   "metadata": {},
   "outputs": [],
   "source": [
    "# Introduction to Sets\n",
    "\n",
    "def average(array):\n",
    "    \n",
    "    ar = list(set(arr))\n",
    "    toplam = 0\n",
    "    for i in ar:\n",
    "        toplam += i\n",
    "    result = toplam/len(ar)\n",
    "    return result\n",
    "\n",
    "if __name__ == '__main__':\n",
    "    n = int(input())\n",
    "    arr = list(map(int, input().split()))\n",
    "    result = average(arr)\n",
    "    print(result)"
   ]
  },
  {
   "cell_type": "code",
   "execution_count": null,
   "id": "f7e745a7",
   "metadata": {},
   "outputs": [],
   "source": [
    "# No Idea!\n",
    "\n"
   ]
  },
  {
   "cell_type": "code",
   "execution_count": null,
   "id": "db4c8100",
   "metadata": {},
   "outputs": [],
   "source": [
    "# Symmetric Difference\n",
    "\n",
    "m = int(input())\n",
    "a = set(map(int,input().split()))\n",
    "\n",
    "n = int(input())\n",
    "b = set(map(int, input().split()))\n",
    "    \n",
    "sort = sorted(list(a.difference(b))+list(b.difference(a)))\n",
    "for i in sort:\n",
    "    print(i)"
   ]
  },
  {
   "cell_type": "code",
   "execution_count": null,
   "id": "47d7a515",
   "metadata": {},
   "outputs": [],
   "source": [
    "# Set .add()\n",
    "\n",
    "n = int(input())\n",
    "\n",
    "s = set()\n",
    "for i in range(n):\n",
    "    i = input()\n",
    "    s.add(i)\n",
    "\n",
    "print(len(s))"
   ]
  },
  {
   "cell_type": "code",
   "execution_count": null,
   "id": "f4bb50d0",
   "metadata": {},
   "outputs": [],
   "source": [
    "# Set .discard(), .remove() & .pop()\n",
    "\n"
   ]
  },
  {
   "cell_type": "code",
   "execution_count": null,
   "id": "25cf6fc2",
   "metadata": {},
   "outputs": [],
   "source": [
    "# Set .union() Operation\n",
    "\n"
   ]
  },
  {
   "cell_type": "code",
   "execution_count": null,
   "id": "2db4a50a",
   "metadata": {},
   "outputs": [],
   "source": [
    "# Set .intersection() Operation\n",
    "\n"
   ]
  },
  {
   "cell_type": "code",
   "execution_count": null,
   "id": "32113ee2",
   "metadata": {},
   "outputs": [],
   "source": [
    "# Set .difference() Operation\n",
    "\n"
   ]
  },
  {
   "cell_type": "code",
   "execution_count": null,
   "id": "5273ed73",
   "metadata": {},
   "outputs": [],
   "source": [
    "# Set .symmetric_difference() Operation\n",
    "\n"
   ]
  },
  {
   "cell_type": "code",
   "execution_count": null,
   "id": "b66b1e0c",
   "metadata": {},
   "outputs": [],
   "source": [
    "# Set Mutations\n",
    "\n"
   ]
  },
  {
   "cell_type": "code",
   "execution_count": null,
   "id": "90c77efd",
   "metadata": {},
   "outputs": [],
   "source": [
    "# The Captain's Room\n",
    "\n"
   ]
  },
  {
   "cell_type": "code",
   "execution_count": null,
   "id": "cdabf4af",
   "metadata": {},
   "outputs": [],
   "source": [
    "# Check Subset\n",
    "\n"
   ]
  },
  {
   "cell_type": "code",
   "execution_count": null,
   "id": "d180824c",
   "metadata": {},
   "outputs": [],
   "source": [
    "# Check Strict Superset\n",
    "\n"
   ]
  },
  {
   "cell_type": "code",
   "execution_count": null,
   "id": "9e07bbf6",
   "metadata": {},
   "outputs": [],
   "source": []
  }
 ],
 "metadata": {
  "kernelspec": {
   "display_name": "Python 3",
   "language": "python",
   "name": "python3"
  },
  "language_info": {
   "codemirror_mode": {
    "name": "ipython",
    "version": 3
   },
   "file_extension": ".py",
   "mimetype": "text/x-python",
   "name": "python",
   "nbconvert_exporter": "python",
   "pygments_lexer": "ipython3",
   "version": "3.8.8"
  }
 },
 "nbformat": 4,
 "nbformat_minor": 5
}
