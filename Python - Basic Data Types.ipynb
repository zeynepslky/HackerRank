{
 "cells": [
  {
   "cell_type": "code",
   "execution_count": null,
   "id": "764d1b44",
   "metadata": {},
   "outputs": [],
   "source": [
    "# List Comprehensions\n",
    "\n",
    "if __name__ == '__main__':\n",
    "    x = int(input())\n",
    "    y = int(input())\n",
    "    z = int(input())\n",
    "    n = int(input())\n",
    "\n",
    "    list = []\n",
    "    for i in range(x+1):\n",
    "        for j in range(y+1):\n",
    "            for k in range(z+1):\n",
    "                if (i+j+k != n):\n",
    "                    list.append([i,j,k])   \n",
    "    print(list)     "
   ]
  },
  {
   "cell_type": "code",
   "execution_count": null,
   "id": "9806bfcd",
   "metadata": {},
   "outputs": [],
   "source": [
    "# Find the Runner-Up Score!\n",
    "if __name__ == '__main__':\n",
    "    n = int(input())\n",
    "    arr = map(int, input().split())\n",
    "    \n",
    "    print(sorted(list(set(arr)))[-2])"
   ]
  },
  {
   "cell_type": "code",
   "execution_count": null,
   "id": "809cd567",
   "metadata": {},
   "outputs": [],
   "source": [
    "# Nested Lists\n",
    "\n",
    "if __name__ == '__main__':\n",
    "    students = []\n",
    "    for _ in range(int(input())):\n",
    "        name = input()\n",
    "        score = float(input())\n",
    "        \n",
    "        students.append([name, score])\n",
    "    \n",
    "    lowest = min([el[1] for el in students])\n",
    "    second_low = min(list(filter(lambda a: a > lowest, [el[1] for el in students])))\n",
    "    \n",
    "    out = [el[0] for el in students if (el[1] == second_low)]\n",
    "    out.sort()\n",
    "    \n",
    "    print(\"\\n\".join(out))"
   ]
  },
  {
   "cell_type": "code",
   "execution_count": null,
   "id": "35cbafc1",
   "metadata": {},
   "outputs": [],
   "source": [
    "# Finding the percentage\n",
    "\n",
    "if __name__ == '__main__':\n",
    "    n = int(input())\n",
    "    student_marks = {}\n",
    "    for _ in range(n):\n",
    "        name, *line = input().split()\n",
    "        scores = list(map(float, line))\n",
    "        student_marks[name] = scores\n",
    "    query_name = input()\n",
    "    s = 0\n",
    "    for i in student_marks[query_name]:\n",
    "        s += i\n",
    "        ort = s / 3\n",
    "    print(\"{0:.2f}\".format(ort))"
   ]
  },
  {
   "cell_type": "code",
   "execution_count": null,
   "id": "c8a27c2b",
   "metadata": {},
   "outputs": [],
   "source": [
    "# Lists\n",
    "\n",
    "if __name__ == '__main__':\n",
    "    N = int(input())\n",
    "    liste = []\n",
    "    for _ in range(N):\n",
    "        komut, *line = input().split()\n",
    "        sayi = list(map(int, line))\n",
    "        if (komut == \"insert\"):\n",
    "            liste.insert(sayi[0],sayi[1])\n",
    "            \n",
    "        elif (komut == \"remove\"):\n",
    "            liste.remove(sayi[0])\n",
    "        \n",
    "        elif (komut == \"append\"):\n",
    "            liste.append(sayi[0])\n",
    "            \n",
    "        elif (komut == \"sort\"):\n",
    "            liste.sort()\n",
    "            \n",
    "        elif (komut == \"pop\"):\n",
    "            liste.pop()\n",
    "            \n",
    "        elif (komut == \"reverse\"):\n",
    "            liste.reverse()\n",
    "            \n",
    "        elif (komut == \"print\"):\n",
    "            print(liste)\n",
    "            \n",
    "        else:\n",
    "            break"
   ]
  },
  {
   "cell_type": "code",
   "execution_count": null,
   "id": "6fa488cf",
   "metadata": {},
   "outputs": [],
   "source": [
    "# Tuples\n",
    "\n",
    "if __name__ == '__main__':\n",
    "    n = int(input())\n",
    "    integer_list = tuple(map(int, input().split()))\n",
    "    \n",
    "    print(hash(integer_list))"
   ]
  }
 ],
 "metadata": {
  "kernelspec": {
   "display_name": "Python 3",
   "language": "python",
   "name": "python3"
  },
  "language_info": {
   "codemirror_mode": {
    "name": "ipython",
    "version": 3
   },
   "file_extension": ".py",
   "mimetype": "text/x-python",
   "name": "python",
   "nbconvert_exporter": "python",
   "pygments_lexer": "ipython3",
   "version": "3.8.8"
  }
 },
 "nbformat": 4,
 "nbformat_minor": 5
}
