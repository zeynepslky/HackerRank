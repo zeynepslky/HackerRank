{
 "cells": [
  {
   "cell_type": "code",
   "execution_count": null,
   "id": "9fec2094",
   "metadata": {},
   "outputs": [],
   "source": [
    "# Index Architecture Types\n",
    "\n",
    "How many index architecture type classifications are there in MS SQL Server?\n",
    "Answer = 2"
   ]
  },
  {
   "cell_type": "code",
   "execution_count": null,
   "id": "b2c33b57",
   "metadata": {},
   "outputs": [],
   "source": [
    "# Indexes - 2\n",
    "\n",
    "Which of the following statement is true about row locators in non-clustered indexes in MS SQL Server?\n",
    "Answer = If the table has a clustered index, or the index is on an indexed view, the row locator is the clustered index key for the row."
   ]
  },
  {
   "cell_type": "code",
   "execution_count": null,
   "id": "3a5617d9",
   "metadata": {},
   "outputs": [],
   "source": [
    "# Indexes - 3\n",
    "\n",
    "Consider the following two designs to store the data using clustered indexes in MS SQL Server:\n",
    "    In the first design, the fill factor is 20% and the total number of free rows per page are A.\n",
    "\n",
    "    In the second design, the fill factor is 40% and the total number of free rows per page are B.\n",
    "\n",
    "Which the followings describes the relation between A and B:\n",
    "    \n",
    "Answer = A = 1.33B"
   ]
  },
  {
   "cell_type": "code",
   "execution_count": null,
   "id": "86b1636e",
   "metadata": {},
   "outputs": [],
   "source": [
    "# Indexes - 4\n",
    "\n",
    "The correct syntax for creating composite indexes in MS SQL Sever is:\n",
    "\n",
    "Answer = <p>CREATE INDEX index_name</p> <p>ON table_name(column1, column2);</p>"
   ]
  },
  {
   "cell_type": "code",
   "execution_count": null,
   "id": "5a8f3941",
   "metadata": {},
   "outputs": [],
   "source": []
  }
 ],
 "metadata": {
  "kernelspec": {
   "display_name": "Python 3",
   "language": "python",
   "name": "python3"
  },
  "language_info": {
   "codemirror_mode": {
    "name": "ipython",
    "version": 3
   },
   "file_extension": ".py",
   "mimetype": "text/x-python",
   "name": "python",
   "nbconvert_exporter": "python",
   "pygments_lexer": "ipython3",
   "version": "3.8.8"
  }
 },
 "nbformat": 4,
 "nbformat_minor": 5
}
