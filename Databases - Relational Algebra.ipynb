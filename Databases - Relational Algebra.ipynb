{
 "cells": [
  {
   "cell_type": "code",
   "execution_count": null,
   "id": "8a18e411",
   "metadata": {},
   "outputs": [],
   "source": [
    "# Basics of Sets and Relations #1\n",
    "\n",
    "A = {1,2,3,4,5,6}\n",
    "B = {2,3,4,5,6,7,8}\n",
    "\n",
    "A ∪  B = {1,2,3,4,5,6,7,8}\n",
    "s(A ∪ B) = 8"
   ]
  },
  {
   "cell_type": "code",
   "execution_count": null,
   "id": "757ce3b0",
   "metadata": {},
   "outputs": [],
   "source": [
    "# Basics of Sets and Relations #2\n",
    "\n",
    "A = {1,2,3,4,5,6}\n",
    "B = {2,3,4,5,6,7,8}\n",
    "\n",
    "A ∩ B = {2,3,4,5,6}\n",
    "s(A ∩ B) = 5"
   ]
  },
  {
   "cell_type": "code",
   "execution_count": null,
   "id": "b476bf2c",
   "metadata": {},
   "outputs": [],
   "source": [
    "# Basics of Sets and Relations #3\n",
    "\n",
    "A = {1,2,3,4,5,6}\n",
    "B = {2,3,4,5,6,7,8}\n",
    "\n",
    "A - B = {1}\n",
    "s(A - B) = 1"
   ]
  },
  {
   "cell_type": "code",
   "execution_count": null,
   "id": "3a021be0",
   "metadata": {},
   "outputs": [],
   "source": [
    "# Basics of Sets and Relations #4\n",
    "\n",
    "A = {1,2,3,4,5,6}\n",
    "B = {2,3,4,5,6,7,8}\n",
    "\n",
    "A x B = {(1,2),(1,3),(1,4),...}\n",
    "s(A x B) = s(A)*s(B) = 6*7 = 42"
   ]
  },
  {
   "cell_type": "code",
   "execution_count": null,
   "id": "d15422a7",
   "metadata": {},
   "outputs": [],
   "source": [
    "# Basics of Sets and Relations #5\n",
    "\n",
    "σ(Number<3000)(Student) = 2"
   ]
  },
  {
   "cell_type": "code",
   "execution_count": null,
   "id": "57ddcc88",
   "metadata": {},
   "outputs": [],
   "source": [
    "# Basics of Sets and Relations #6\n",
    "\n",
    "π(Name, Number)(Student) = 2"
   ]
  },
  {
   "cell_type": "code",
   "execution_count": null,
   "id": "5aaee423",
   "metadata": {},
   "outputs": [],
   "source": [
    "# Basics of Sets and Relations #7\n",
    "\n",
    "Student ⊳⊲(Number=ID) Teaching Assistants = 2"
   ]
  },
  {
   "cell_type": "code",
   "execution_count": null,
   "id": "e20b270b",
   "metadata": {},
   "outputs": [],
   "source": [
    "# Relations - 1\n",
    "\n",
    "The_____ operation allows the combining of two relations by merging pairs of tuples, one from each relation, into a single tuple.\n",
    "Answer = Join"
   ]
  },
  {
   "cell_type": "code",
   "execution_count": null,
   "id": "2180d7a3",
   "metadata": {},
   "outputs": [],
   "source": [
    "# Relations - 2\n",
    "\n",
    "The result which operation contains all pairs of tuples from the two relations, regardless of whether their attribute values match.\n",
    "Answer = Cartesian product"
   ]
  },
  {
   "cell_type": "code",
   "execution_count": null,
   "id": "1e745531",
   "metadata": {},
   "outputs": [],
   "source": [
    "# Relations - 3\n",
    "\n",
    "Which is a join condition contains an equality operator?\n",
    "Answer = Equijoins"
   ]
  },
  {
   "cell_type": "code",
   "execution_count": null,
   "id": "b2dc47f5",
   "metadata": {},
   "outputs": [],
   "source": [
    "# Relations - 4\n",
    "\n",
    "In precedence of set operators the expression is evaluated from:\n",
    "Answer = Left to right"
   ]
  },
  {
   "cell_type": "code",
   "execution_count": null,
   "id": "6e7c462d",
   "metadata": {},
   "outputs": [],
   "source": [
    "# Database Query Languages\n",
    "\n",
    "Using which language can a user request information from a database ?\n",
    "Answer = Query"
   ]
  },
  {
   "cell_type": "code",
   "execution_count": null,
   "id": "15f2ba99",
   "metadata": {},
   "outputs": [],
   "source": [
    "# Procedural Language\n",
    "\n",
    "Which one of the following is a procedural language ?\n",
    "Answer = Relational algebra"
   ]
  },
  {
   "cell_type": "code",
   "execution_count": null,
   "id": "adb68700",
   "metadata": {},
   "outputs": [],
   "source": []
  }
 ],
 "metadata": {
  "kernelspec": {
   "display_name": "Python 3",
   "language": "python",
   "name": "python3"
  },
  "language_info": {
   "codemirror_mode": {
    "name": "ipython",
    "version": 3
   },
   "file_extension": ".py",
   "mimetype": "text/x-python",
   "name": "python",
   "nbconvert_exporter": "python",
   "pygments_lexer": "ipython3",
   "version": "3.8.8"
  }
 },
 "nbformat": 4,
 "nbformat_minor": 5
}
